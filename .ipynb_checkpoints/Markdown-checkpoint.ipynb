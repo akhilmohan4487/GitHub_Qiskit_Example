{
 "cells": [
  {
   "cell_type": "markdown",
   "id": "c6f179ed-dc5b-4d21-b850-a23f718a3c4f",
   "metadata": {},
   "source": [
    "# This project was created to learn about the Qiskit programming environment."
   ]
  }
 ],
 "metadata": {
  "kernelspec": {
   "display_name": "Python 3 (ipykernel)",
   "language": "python",
   "name": "python3"
  },
  "language_info": {
   "codemirror_mode": {
    "name": "ipython",
    "version": 3
   },
   "file_extension": ".py",
   "mimetype": "text/x-python",
   "name": "python",
   "nbconvert_exporter": "python",
   "pygments_lexer": "ipython3",
   "version": "3.9.19"
  }
 },
 "nbformat": 4,
 "nbformat_minor": 5
}
